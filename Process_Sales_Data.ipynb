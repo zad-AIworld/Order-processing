{
  "cells": [
    {
      "cell_type": "markdown",
      "metadata": {
        "id": "view-in-github",
        "colab_type": "text"
      },
      "source": [
        "<a href=\"https://colab.research.google.com/github/zad-AIworld/Order-processing/blob/main/Process_Sales_Data.ipynb\" target=\"_parent\"><img src=\"https://colab.research.google.com/assets/colab-badge.svg\" alt=\"Open In Colab\"/></a>"
      ]
    },
    {
      "cell_type": "code",
      "source": [
        "import json\n",
        "import pandas as pd\n",
        "import os\n",
        "\n",
        "def display_order_history(data_filepath):\n",
        "    \"\"\"\n",
        "    Loads order history from a JSON file and displays it as a table.\n",
        "\n",
        "    Args:\n",
        "        data_filepath (str): The path to the JSON file containing the order data.\n",
        "    \"\"\"\n",
        "    try:\n",
        "        # Check if the file exists before trying to open it\n",
        "        if not os.path.exists(data_filepath):\n",
        "            print(f\"Error: The file '{data_filepath}' was not found.\")\n",
        "            print(\"Please make sure the data file is in the same directory as this script.\")\n",
        "            return\n",
        "\n",
        "        # Load the transaction data from the JSON file\n",
        "        with open(data_filepath, 'r', encoding='utf-8') as f:\n",
        "            order_data = json.load(f)\n",
        "\n",
        "        # If the data is empty, print a message and exit\n",
        "        if not order_data:\n",
        "            print(\"The data file is empty. No data to display.\")\n",
        "            return\n",
        "\n",
        "        # Use pandas to create a DataFrame for easy tabular display\n",
        "        # A DataFrame is a 2-dimensional labeled data structure with columns\n",
        "        # of potentially different types, similar to a spreadsheet or SQL table.\n",
        "        df = pd.DataFrame(order_data)\n",
        "\n",
        "        # Select and reorder columns for a cleaner presentation\n",
        "        # You can customize this list to show the columns you care about most.\n",
        "        columns_to_display = [\n",
        "            'orderId',\n",
        "            'orderDate',\n",
        "            'productName',\n",
        "            'quantity',\n",
        "            'totalOwed',\n",
        "            'currencyCode'\n",
        "        ]\n",
        "\n",
        "        # Ensure all desired columns exist in the DataFrame, adding any missing ones with None\n",
        "        for col in columns_to_display:\n",
        "            if col not in df.columns:\n",
        "                df[col] = None # Add missing column with default value\n",
        "\n",
        "        df_display = df[columns_to_display]\n",
        "\n",
        "        # Convert orderDate to datetime objects and then format them\n",
        "        # This makes the date more readable by removing the time and timezone info.\n",
        "        df_display['orderDate'] = pd.to_datetime(df_display['orderDate']).dt.strftime('%Y-%m-%d')\n",
        "\n",
        "\n",
        "        # Set pandas display options to show all rows and prevent truncation\n",
        "        pd.set_option('display.max_rows', None)\n",
        "        pd.set_option('display.max_columns', None)\n",
        "        pd.set_option('display.width', 1000)\n",
        "        pd.set_option('display.max_colwidth', 50) # Truncate long product names\n",
        "\n",
        "        # Print the DataFrame\n",
        "        print(\"--- Sales Order History ---\")\n",
        "        print(df_display)\n",
        "\n",
        "    except json.JSONDecodeError:\n",
        "        print(f\"Error: Could not decode JSON from the file '{data_filepath}'. Please check its format.\")\n",
        "    except Exception as e:\n",
        "        print(f\"An unexpected error occurred: {e}\")\n",
        "\n",
        "# --- Main Execution ---\n",
        "if __name__ == \"__main__\":\n",
        "    # Define the name of your local data file.\n",
        "    # This script assumes 'Orders.OrderHistory.2.json' is in the same folder.\n",
        "    data_file = \"Orders.OrderHistory.2.json\"\n",
        "\n",
        "    # Call the function to process and display the data\n",
        "    display_order_history(data_file)\n",
        "\n",
        "    # Note: The schema file ('Orders.OrderHistory.2.schema.json') is not needed\n",
        "    # for this script to read and display the data, but it's good practice to have it\n",
        "    # for data validation in a larger application."
      ],
      "outputs": [],
      "execution_count": null,
      "metadata": {
        "id": "OI_9YxF9Lzie"
      }
    }
  ],
  "metadata": {
    "colab": {
      "provenance": [],
      "include_colab_link": true
    },
    "kernelspec": {
      "display_name": "Python 3",
      "name": "python3"
    }
  },
  "nbformat": 4,
  "nbformat_minor": 0
}